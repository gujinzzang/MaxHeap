{
 "cells": [
  {
   "cell_type": "code",
   "execution_count": 72,
   "metadata": {},
   "outputs": [
    {
     "name": "stdout",
     "output_type": "stream",
     "text": [
      "The maxHeap is \n",
      " PARENT : 91 LEFT CHILD : 41 RIGHT CHILD : 31\n",
      " PARENT : 41 LEFT CHILD : 13 RIGHT CHILD : 19\n",
      " PARENT : 31 LEFT CHILD : 14 RIGHT CHILD : 0\n",
      "The Max val is 91\n"
     ]
    }
   ],
   "source": [
    "# Python3 implementation of Max Heap \n",
    "  \n",
    "import sys \n",
    "  \n",
    "class MaxHeap: \n",
    "  \n",
    "    def __init__(self, maxsize): \n",
    "        self.maxsize = maxsize \n",
    "        self.size = 0\n",
    "        self.Heap = [0]*(self.maxsize + 1) \n",
    "        self.Heap[0] = sys.maxsize \n",
    "        self.FRONT = 1\n",
    "  \n",
    "    # Function to return the position of \n",
    "    # parent for the node currently \n",
    "    # at pos \n",
    "    def parent(self, pos): \n",
    "        return pos//2\n",
    "  \n",
    "    # Function to return the position of \n",
    "    # the left child for the node currently \n",
    "    # at pos \n",
    "    def leftChild(self, pos): \n",
    "        return 2 * pos \n",
    "  \n",
    "    # Function to return the position of \n",
    "    # the right child for the node currently \n",
    "    # at pos \n",
    "    def rightChild(self, pos): \n",
    "        return (2 * pos) + 1\n",
    "  \n",
    "    # Function that returns true if the passed \n",
    "    # node is a leaf node \n",
    "    def isLeaf(self, pos): \n",
    "        if pos >= (self.size//2) and pos <= self.size: \n",
    "            return True\n",
    "        return False\n",
    "  \n",
    "    # Function to swap two nodes of the heap \n",
    "    def swap(self, fpos, spos): \n",
    "        self.Heap[fpos], self.Heap[spos] = self.Heap[spos], self.Heap[fpos] \n",
    "  \n",
    "    # Function to heapify the node at pos \n",
    "    def maxHeapify(self, pos): \n",
    "  \n",
    "        # If the node is a non-leaf node and smaller \n",
    "        # than any of its child \n",
    "        if not self.isLeaf(pos): \n",
    "            if (self.Heap[pos] < self.Heap[self.leftChild(pos)] or\n",
    "                self.Heap[pos] < self.Heap[self.rightChild(pos)]): \n",
    "  \n",
    "                # Swap with the left child and heapify \n",
    "                # the left child \n",
    "                if self.Heap[self.leftChild(pos)] > self.Heap[self.rightChild(pos)]: \n",
    "                    self.swap(pos, self.leftChild(pos)) \n",
    "                    self.maxHeapify(self.leftChild(pos)) \n",
    "  \n",
    "                # Swap with the right child and heapify \n",
    "                # the right child \n",
    "                else: \n",
    "                    self.swap(pos, self.rightChild(pos)) \n",
    "                    self.maxHeapify(self.rightChild(pos)) \n",
    "  \n",
    "    # Function to insert a node into the heap \n",
    "    def insert(self, element): \n",
    "        if self.size >= self.maxsize : \n",
    "            return\n",
    "        self.size+= 1\n",
    "        self.Heap[self.size] = element \n",
    "  \n",
    "        current = self.size \n",
    "  \n",
    "        while self.Heap[current] > self.Heap[self.parent(current)]: \n",
    "            self.swap(current, self.parent(current)) \n",
    "            current = self.parent(current) \n",
    "  \n",
    "    # Function to print the contents of the heap \n",
    "    def Print(self): \n",
    "        for i in range(1, (self.size//2)+1): \n",
    "            print(\" PARENT : \"+str(self.Heap[i])+\" LEFT CHILD : \"+ \n",
    "                               str(self.Heap[2 * i])+\" RIGHT CHILD : \"+\n",
    "                               str(self.Heap[2 * i + 1])) \n",
    "  \n",
    "    # Function to remove and return the maximum \n",
    "    # element from the heap \n",
    "    def extractMax(self): \n",
    "  \n",
    "        popped = self.Heap[self.FRONT] \n",
    "        self.Heap[self.FRONT] = self.Heap[self.size] \n",
    "        self.size-= 1\n",
    "        self.maxHeapify(self.FRONT) \n",
    "        return popped \n",
    "  \n",
    "# Driver Code \n",
    "if __name__ == \"__main__\": \n",
    "    print('The maxHeap is ') \n",
    "    minHeap = MaxHeap(10) \n",
    "    minHeap.insert(91) \n",
    "    minHeap.insert(41) \n",
    "    minHeap.insert(31) \n",
    "    minHeap.insert(13) \n",
    "    minHeap.insert(19) \n",
    "    minHeap.insert(14)\n",
    "  \n",
    "    minHeap.Print() \n",
    "\n",
    "    print(\"The Max val is \" + str(minHeap.extractMax())) "
   ]
  },
  {
   "cell_type": "code",
   "execution_count": 73,
   "metadata": {},
   "outputs": [
    {
     "data": {
      "text/plain": [
       "[9223372036854775807, 41, 14, 31, 13, 19, 14, 0, 0, 0, 0]"
      ]
     },
     "execution_count": 73,
     "metadata": {},
     "output_type": "execute_result"
    }
   ],
   "source": [
    "minHeap.Heap"
   ]
  },
  {
   "cell_type": "code",
   "execution_count": 85,
   "metadata": {},
   "outputs": [],
   "source": [
    "def heap_sort(unsorted):\n",
    "    n = len(unsorted)\n",
    "    # BUILD-MAX-HEAP (A) : 위의 1단계\n",
    "    # 인덱스 : (n을 2로 나눈 몫-1)~0\n",
    "    # 최초 힙 구성시 배열의 중간부터 시작하면 \n",
    "    # 이진트리 성질에 의해 모든 요소값을 \n",
    "    # 서로 한번씩 비교할 수 있게 됨 : O(n)\n",
    "    for i in range(n // 2 - 1, -1, -1):\n",
    "        heapify(unsorted, i, n)\n",
    "    # Recurrent (B) : 2~4단계\n",
    "    # 한번 힙이 구성되면 개별 노드는\n",
    "    # 최악의 경우에도 트리의 높이(logn)\n",
    "    # 만큼의 자리 이동을 하게 됨\n",
    "    # 이런 노드들이 n개 있으므로 : O(nlogn)\n",
    "    for i in range(n - 1, 0, -1):\n",
    "        unsorted[0], unsorted[i] = unsorted[i], unsorted[0]\n",
    "        heapify(unsorted, 0, i)\n",
    "    return unsorted"
   ]
  },
  {
   "cell_type": "code",
   "execution_count": 86,
   "metadata": {},
   "outputs": [
    {
     "ename": "TypeError",
     "evalue": "heapify() takes 1 positional argument but 3 were given",
     "output_type": "error",
     "traceback": [
      "\u001b[1;31m---------------------------------------------------------------------------\u001b[0m",
      "\u001b[1;31mTypeError\u001b[0m                                 Traceback (most recent call last)",
      "\u001b[1;32m<ipython-input-86-8239d7820248>\u001b[0m in \u001b[0;36m<module>\u001b[1;34m()\u001b[0m\n\u001b[0;32m      1\u001b[0m \u001b[0munsorted\u001b[0m \u001b[1;33m=\u001b[0m \u001b[1;33m[\u001b[0m\u001b[1;36m14\u001b[0m\u001b[1;33m,\u001b[0m \u001b[1;36m19\u001b[0m\u001b[1;33m,\u001b[0m \u001b[1;36m31\u001b[0m\u001b[1;33m,\u001b[0m \u001b[1;36m13\u001b[0m\u001b[1;33m,\u001b[0m \u001b[1;36m91\u001b[0m\u001b[1;33m,\u001b[0m \u001b[1;36m41\u001b[0m\u001b[1;33m]\u001b[0m\u001b[1;33m\u001b[0m\u001b[0m\n\u001b[1;32m----> 2\u001b[1;33m \u001b[0mheap_sort\u001b[0m\u001b[1;33m(\u001b[0m\u001b[0munsorted\u001b[0m\u001b[1;33m)\u001b[0m\u001b[1;33m\u001b[0m\u001b[0m\n\u001b[0m",
      "\u001b[1;32m<ipython-input-85-faa492b6a914>\u001b[0m in \u001b[0;36mheap_sort\u001b[1;34m(unsorted)\u001b[0m\n\u001b[0;32m      7\u001b[0m     \u001b[1;31m# 서로 한번씩 비교할 수 있게 됨 : O(n)\u001b[0m\u001b[1;33m\u001b[0m\u001b[1;33m\u001b[0m\u001b[0m\n\u001b[0;32m      8\u001b[0m     \u001b[1;32mfor\u001b[0m \u001b[0mi\u001b[0m \u001b[1;32min\u001b[0m \u001b[0mrange\u001b[0m\u001b[1;33m(\u001b[0m\u001b[0mn\u001b[0m \u001b[1;33m//\u001b[0m \u001b[1;36m2\u001b[0m \u001b[1;33m-\u001b[0m \u001b[1;36m1\u001b[0m\u001b[1;33m,\u001b[0m \u001b[1;33m-\u001b[0m\u001b[1;36m1\u001b[0m\u001b[1;33m,\u001b[0m \u001b[1;33m-\u001b[0m\u001b[1;36m1\u001b[0m\u001b[1;33m)\u001b[0m\u001b[1;33m:\u001b[0m\u001b[1;33m\u001b[0m\u001b[0m\n\u001b[1;32m----> 9\u001b[1;33m         \u001b[0mheapify\u001b[0m\u001b[1;33m(\u001b[0m\u001b[0munsorted\u001b[0m\u001b[1;33m,\u001b[0m \u001b[0mi\u001b[0m\u001b[1;33m,\u001b[0m \u001b[0mn\u001b[0m\u001b[1;33m)\u001b[0m\u001b[1;33m\u001b[0m\u001b[0m\n\u001b[0m\u001b[0;32m     10\u001b[0m     \u001b[1;31m# Recurrent (B) : 2~4단계\u001b[0m\u001b[1;33m\u001b[0m\u001b[1;33m\u001b[0m\u001b[0m\n\u001b[0;32m     11\u001b[0m     \u001b[1;31m# 한번 힙이 구성되면 개별 노드는\u001b[0m\u001b[1;33m\u001b[0m\u001b[1;33m\u001b[0m\u001b[0m\n",
      "\u001b[1;31mTypeError\u001b[0m: heapify() takes 1 positional argument but 3 were given"
     ]
    }
   ],
   "source": [
    "unsorted = [14, 19, 31, 13, 91, 41]\n",
    "heap_sort(unsorted)"
   ]
  },
  {
   "cell_type": "code",
   "execution_count": 68,
   "metadata": {},
   "outputs": [
    {
     "name": "stdout",
     "output_type": "stream",
     "text": [
      "Elasped time : 0.0\n"
     ]
    }
   ],
   "source": [
    "import sys #for sys.maxsize\n",
    "from random import randrange\n",
    "import math\n",
    "import time\n",
    "#\n",
    "# Helper functions\n",
    "#\n",
    "# swap, print_array\n",
    "#\n",
    "def swap(array, a, b):  \n",
    "    array[a], array[b] = array[b], array[a]\n",
    "    \n",
    "def print_array(input):\n",
    "    for i in range(len(input)):\n",
    "        print(input[i], end=' ')\n",
    "    print()\n",
    "#\n",
    "# Main sorting function :\n",
    "#\n",
    "def heapify(Arr, index, arr_size):\n",
    "    if arr_size // 2 - 1 < index:\n",
    "        if Arr[(index-1) // 2] < Arr[index]:\n",
    "            swap(Arr, (index-1)//2, index)\n",
    "            heapify(Arr, (index-1)//2, arr_size)\n",
    "    else:\n",
    "        if Arr[2*index + 1] > Arr[index] or \\\n",
    "            (2*index+2) < arr_size and \\\n",
    "                Arr[2*index + 2] > Arr[index]:\n",
    "            if (2*index+2) >= arr_size or \\\n",
    "                Arr[2*index + 1] > Arr[2*index + 2]:\n",
    "                swap(Arr, index, 2*index + 1)\n",
    "                heapify(Arr, 2*index + 1, arr_size)\n",
    "            else:\n",
    "                swap(Arr, index, 2*index + 2)\n",
    "                heapify(Arr, 2 * index + 2, arr_size)\n",
    "        \n",
    "def heap_sort(Arr, arr_size):\n",
    "    \n",
    "    for i in range(len(Arr) // 2, -1, -1):\n",
    "        heapify(Arr, i, len(Arr))\n",
    "    for i in range(len(Arr) - 1, -1, -1):\n",
    "        swap(Arr, i, 0)\n",
    "        heapify(Arr, 0, i)\n",
    "        \n",
    "f = open(\"insert_dataset.txt\", 'w')\n",
    "\n",
    "for i in range(100):\n",
    "    array_t = []\n",
    "    for j in range(100):\n",
    "        array_t.append(randrange(sys.maxsize))\n",
    "    start = time.process_time()\n",
    "    heap_sort(array_t, len(array_t)-1)\n",
    "    end = time.process_time()\n",
    "    f.write(str((end - start) * 1000000) + \"\\n\")\n",
    "    \n",
    "#print(\"Elasped time : \" + str(end-start))\n",
    "f.close()"
   ]
  },
  {
   "cell_type": "code",
   "execution_count": 67,
   "metadata": {},
   "outputs": [
    {
     "name": "stdout",
     "output_type": "stream",
     "text": [
      "14 19 31 13 91 41 \n"
     ]
    }
   ],
   "source": [
    "input = [14, 19, 31, 13, 91, 41]\n",
    "print_array(input)"
   ]
  },
  {
   "cell_type": "code",
   "execution_count": 83,
   "metadata": {},
   "outputs": [
    {
     "name": "stdout",
     "output_type": "stream",
     "text": [
      "[91, 31, 41, 13, 14, 19]\n"
     ]
    }
   ],
   "source": [
    "import heapq\n",
    "\n",
    "class ReverseLessThan(object):\n",
    "    def __init__(self, value):\n",
    "        self.value = value\n",
    "\n",
    "    def __lt__(self, other):\n",
    "        return self.value > other.value\n",
    "\n",
    "    def __repr__(self):\n",
    "        return str(self.value)\n",
    "\n",
    "\n",
    "def heappush(heap, item):\n",
    "    reverse_item = ReverseLessThan(item)\n",
    "    heapq.heappush(heap, reverse_item)\n",
    "\n",
    "\n",
    "def heappop(heap):\n",
    "    reverse_item = heapq.heappop(heap)\n",
    "    return reverse_item.value\n",
    "\n",
    "\n",
    "def heapify(max):\n",
    "    for i, ele in enumerate(max):\n",
    "        lst[i] = ReverseLessThan(ele)\n",
    "    heapq.heapify(max)\n",
    "\n",
    "\n",
    "if __name__ == \"__main__\":\n",
    "    h = []\n",
    "    heappush(h, 14)\n",
    "    heappush(h, 19)\n",
    "    heappush(h, 31)\n",
    "    heappush(h, 13)\n",
    "    heappush(h, 91)\n",
    "    heappush(h, 41)\n",
    "\n",
    "    print(h)\n"
   ]
  },
  {
   "cell_type": "code",
   "execution_count": 84,
   "metadata": {},
   "outputs": [
    {
     "name": "stdout",
     "output_type": "stream",
     "text": [
      "[91, 41, 31, 19, 14, 13]\n"
     ]
    }
   ],
   "source": [
    "def heap_sort(nums):\n",
    "    heap = []\n",
    "    for num in nums:\n",
    "        heapq.heappush(heap, num)\n",
    "\n",
    "    sorted_nums = []\n",
    "    while heap:\n",
    "        sorted_nums.append(heapq.heappop(heap))\n",
    "    return sorted_nums\n",
    "\n",
    "print(heap_sort(h))"
   ]
  },
  {
   "cell_type": "code",
   "execution_count": 2,
   "metadata": {},
   "outputs": [
    {
     "name": "stdout",
     "output_type": "stream",
     "text": [
      "91\n",
      "82\n",
      "71\n",
      "28\n",
      "19\n",
      "17\n"
     ]
    }
   ],
   "source": [
    "import heapq\n",
    "\n",
    "nums = [17, 19, 28, 82, 91, 71]\n",
    "heap = []\n",
    "\n",
    "for num in nums:\n",
    "  heapq.heappush(heap, (-num, num))  # (우선 순위, 값)\n",
    "\n",
    "while heap:\n",
    "  print(heapq.heappop(heap)[1])  # index 1"
   ]
  },
  {
   "cell_type": "code",
   "execution_count": null,
   "metadata": {},
   "outputs": [],
   "source": []
  }
 ],
 "metadata": {
  "kernelspec": {
   "display_name": "Python 3",
   "language": "python",
   "name": "python3"
  },
  "language_info": {
   "codemirror_mode": {
    "name": "ipython",
    "version": 3
   },
   "file_extension": ".py",
   "mimetype": "text/x-python",
   "name": "python",
   "nbconvert_exporter": "python",
   "pygments_lexer": "ipython3",
   "version": "3.5.6"
  }
 },
 "nbformat": 4,
 "nbformat_minor": 2
}
